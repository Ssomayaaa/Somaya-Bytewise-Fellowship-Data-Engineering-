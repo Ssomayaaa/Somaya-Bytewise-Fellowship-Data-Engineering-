{
  "nbformat": 4,
  "nbformat_minor": 0,
  "metadata": {
    "colab": {
      "provenance": []
    },
    "kernelspec": {
      "name": "python3",
      "display_name": "Python 3"
    },
    "language_info": {
      "name": "python"
    }
  },
  "cells": [
    {
      "cell_type": "code",
      "source": [
        "from pyspark.sql import SparkSession"
      ],
      "metadata": {
        "id": "kmjsKmdd2ZbA"
      },
      "execution_count": 3,
      "outputs": []
    },
    {
      "cell_type": "code",
      "source": [
        "spark = SparkSession.builder.getOrCreate()"
      ],
      "metadata": {
        "id": "3UaNFpZz2gJT"
      },
      "execution_count": 4,
      "outputs": []
    },
    {
      "cell_type": "code",
      "source": [
        "df = spark.read.format('csv')\\\n",
        ".option('header', 'true') \\\n",
        "    .load('/content/sample_data/dataset.csv')"
      ],
      "metadata": {
        "id": "muA_wzEI2_7c"
      },
      "execution_count": 7,
      "outputs": []
    },
    {
      "cell_type": "code",
      "source": [
        "df.show()"
      ],
      "metadata": {
        "colab": {
          "base_uri": "https://localhost:8080/"
        },
        "id": "wljylTvXCuLo",
        "outputId": "98a96cef-833b-4497-f6a4-83de0b86235e"
      },
      "execution_count": 8,
      "outputs": [
        {
          "output_type": "stream",
          "name": "stdout",
          "text": [
            "+--------------------+--------+----------+-------+---------+--------------------+--------------------+------------------+--------------------+--------------------+--------------------+\n",
            "|             item_id|order_id|product_id| amount|   status|      item_timestamp|            location|     customer_name|      customer_phone|             country|         description|\n",
            "+--------------------+--------+----------+-------+---------+--------------------+--------------------+------------------+--------------------+--------------------+--------------------+\n",
            "|4dc01ae9-c1a8-461...|  160794|       647|2237.23|Cancelled|2024-01-13 21:34:...|        East Cameron|   Richard Stevens|   (774)709-6342x106|           Guatemala|Room as address h...|\n",
            "|cafaa69b-f0c5-42c...|  105101|       127|2029.17|     NULL|2024-04-24 03:22:...|   East Richardville|        Keith Lamb|   924-443-4084x8236|    Saint Barthelemy|Nice beat despite...|\n",
            "|77944e0c-f500-456...|  510841|       243| 848.88|Cancelled|2024-05-29 17:05:...|South Christinaburgh|     Patrick Allen|    001-734-642-3018|          Mauritania|Accept part crime...|\n",
            "|1019711d-53c9-401...|  259964|       209| 614.64| Returned|2024-01-03 02:18:...|    South Jeremybury|       Wendy White|     +1-210-390-0363|            Cameroon|Top huge old beha...|\n",
            "|8e4497f4-78f2-495...|  270130|       637| 2898.0|     NULL|2024-05-14 21:24:...|          Duncanland|      Dustin Hicks|        230.673.9935|            Maldives|Style there TV so...|\n",
            "|50020fa6-e77e-4ce...|  951786|       316|4214.57|  Shipped|2024-05-08 17:57:...|         Jessicabury|      Lisa Bradley|+1-203-409-1537x2...|               Egypt|Truth responsibil...|\n",
            "|bb6e3160-6de1-462...|  524028|         8| 424.56| Returned|2024-02-10 19:46:...|         Melissafurt|     Victor Taylor|+1-815-967-7476x1122|      Norfolk Island|Business investme...|\n",
            "|af637d83-158f-43c...|   17471|       195|4636.18|  Pending|2024-04-21 11:41:...|         Pearsonfort|Adam Rodriguez PhD|        260-869-2672|    Christmas Island|Class east machin...|\n",
            "|e4440b59-f46a-4c7...|  311299|       556|2804.91|     NULL|2024-03-04 00:55:...|          Brownburgh|      Peter Walker|001-838-552-0004x...|Holy See (Vatican...|Then box clearly ...|\n",
            "|c22ba24d-4a25-44b...|  577128|       752| 161.24|  Pending|2024-03-04 18:05:...|         Port Alicia|   Randy Hernandez|   657.683.0611x2258|             Morocco|Next along Republ...|\n",
            "|7f4dca60-5245-49d...|     915|       773| 260.92| Returned|2024-06-16 21:16:...|            Haasview|      Ryan Flowers|  767-539-0086x59382|              Jersey|Question set miss...|\n",
            "|b1bd4228-7dd3-44a...|   83125|       574|2539.39|Delivered|2024-02-03 07:46:...|        South Amanda|      Renee Wright|   (631)993-2594x711|             Belgium|Culture expert he...|\n",
            "|a83ce742-79af-44d...|  841666|       562|1655.59|  Shipped|2024-06-24 02:00:...|        Phillipsfurt|       Dawn Bowman|  366.887.6914x96284|Falkland Islands ...|Cell before some ...|\n",
            "|1cd3326a-ff73-438...|  664182|       417| 925.87|  Pending|2024-04-11 16:29:...|  West Jenniferville|        Adam Bowen|        423.261.4357|    French Polynesia|Then group severa...|\n",
            "|377c69c7-5c1f-412...|  810184|        92|3176.22|     NULL|2024-04-04 12:37:...|         West Robert|      Daniel Chang|   975-805-0885x7554|             Senegal|Enough hold himse...|\n",
            "|2643f77c-8aaa-4d6...|   56034|       750|3495.88|  Pending|2024-03-19 22:04:...|           Port Jack|       Kevin Smith|        629-270-2029|          Cape Verde|Else property ind...|\n",
            "|6346538e-496d-475...|   42781|       348|4843.55|     NULL|2024-01-08 02:15:...|           Lorimouth|    Daniel Bradley|   400.472.7096x6665|                Guam|Admit hospital pr...|\n",
            "|6f68f384-7ac7-465...|  905824|       244|4267.19|     NULL|2024-06-27 21:16:...|          Brianhaven|     Sonia Johnson|   385.262.1192x7515|                Cuba|Cup wall most cam...|\n",
            "|f4c5d4dd-0497-4f1...|  401743|       899|4610.94|Cancelled|2024-02-06 10:01:...|          Grahamfort|  Christopher Roth|        946.230.9221|Slovakia (Slovak ...|Before she bed we...|\n",
            "|f312ad3a-002a-4e8...|  398394|       462|4525.25|Cancelled|2024-01-09 19:21:...|            Adamland|     Lisa Holloway| (975)696-3029x85363|                Iraq|Age fish analysis...|\n",
            "+--------------------+--------+----------+-------+---------+--------------------+--------------------+------------------+--------------------+--------------------+--------------------+\n",
            "only showing top 20 rows\n",
            "\n"
          ]
        }
      ]
    }
  ]
}