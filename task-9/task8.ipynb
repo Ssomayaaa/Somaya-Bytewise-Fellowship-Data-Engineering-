{
  "nbformat": 4,
  "nbformat_minor": 0,
  "metadata": {
    "colab": {
      "provenance": []
    },
    "kernelspec": {
      "name": "python3",
      "display_name": "Python 3"
    },
    "language_info": {
      "name": "python"
    }
  },
  "cells": [
    {
      "cell_type": "code",
      "execution_count": null,
      "metadata": {
        "colab": {
          "base_uri": "https://localhost:8080/"
        },
        "id": "ztUwV7a0JsPi",
        "outputId": "cef62de9-f8df-4b1b-9578-1a689ce2f739"
      },
      "outputs": [
        {
          "output_type": "stream",
          "name": "stdout",
          "text": [
            "Requirement already satisfied: pyspark in /usr/local/lib/python3.10/dist-packages (3.5.2)\n",
            "Requirement already satisfied: py4j==0.10.9.7 in /usr/local/lib/python3.10/dist-packages (from pyspark) (0.10.9.7)\n"
          ]
        }
      ],
      "source": [
        "pip install pyspark"
      ]
    },
    {
      "cell_type": "markdown",
      "source": [],
      "metadata": {
        "id": "ojdxHNfvJ-XK"
      }
    },
    {
      "cell_type": "code",
      "source": [
        "from pyspark.sql import SparkSession"
      ],
      "metadata": {
        "id": "FA3o5BtvK5DP"
      },
      "execution_count": 69,
      "outputs": []
    },
    {
      "cell_type": "code",
      "source": [
        "from pyspark.sql.functions import col, date_format, lower, when, substring, split, hour"
      ],
      "metadata": {
        "id": "2s5orrMNLATn"
      },
      "execution_count": 70,
      "outputs": []
    },
    {
      "cell_type": "code",
      "source": [
        "spark = SparkSession.builder.getOrCreate()"
      ],
      "metadata": {
        "id": "0pfQm4X8LEIT"
      },
      "execution_count": 71,
      "outputs": []
    },
    {
      "cell_type": "code",
      "source": [
        "spark"
      ],
      "metadata": {
        "colab": {
          "base_uri": "https://localhost:8080/",
          "height": 219
        },
        "id": "Vd9PzEGJLJsC",
        "outputId": "78ab6f39-aebf-4e1c-a478-4c48dc128b7e"
      },
      "execution_count": 72,
      "outputs": [
        {
          "output_type": "execute_result",
          "data": {
            "text/plain": [
              "<pyspark.sql.session.SparkSession at 0x787defc12bf0>"
            ],
            "text/html": [
              "\n",
              "            <div>\n",
              "                <p><b>SparkSession - in-memory</b></p>\n",
              "                \n",
              "        <div>\n",
              "            <p><b>SparkContext</b></p>\n",
              "\n",
              "            <p><a href=\"http://323e2f710e54:4040\">Spark UI</a></p>\n",
              "\n",
              "            <dl>\n",
              "              <dt>Version</dt>\n",
              "                <dd><code>v3.5.2</code></dd>\n",
              "              <dt>Master</dt>\n",
              "                <dd><code>local[*]</code></dd>\n",
              "              <dt>AppName</dt>\n",
              "                <dd><code>pyspark-shell</code></dd>\n",
              "            </dl>\n",
              "        </div>\n",
              "        \n",
              "            </div>\n",
              "        "
            ]
          },
          "metadata": {},
          "execution_count": 72
        }
      ]
    },
    {
      "cell_type": "code",
      "source": [
        "df = spark.read.format('csv') \\\n",
        "    .option('header', 'true') \\\n",
        "    .option('sep', ',') \\\n",
        "    .option('escape', '\"') \\\n",
        "    .option('quote', '\"') \\\n",
        "    .load('/content/sample_data/data.csv')  # sep, escape and quote to consider data with commas in it as a whole and not split data at comma\n",
        "\n",
        "df.show(truncate=False, n=200)\n"
      ],
      "metadata": {
        "colab": {
          "base_uri": "https://localhost:8080/"
        },
        "id": "fCuLHccGLMRs",
        "outputId": "ef1c229c-f78a-485a-ef13-743bcfa81b9a"
      },
      "execution_count": 73,
      "outputs": [
        {
          "output_type": "stream",
          "name": "stdout",
          "text": [
            "+-----------------------+--------+--------------------------+-------------+------------+-------------------------------------------+----------------+----------+----------+--------+--------+\n",
            "|order_date             |order_id|product                   |product_id   |category    |purchase_address                           |quantity_ordered|price_each|cost_price|turnover|margin  |\n",
            "+-----------------------+--------+--------------------------+-------------+------------+-------------------------------------------+----------------+----------+----------+--------+--------+\n",
            "|2023-01-22T21:25:00.000|141234  |iPhone                    |5638008983335|Vêtements   |\"944 Walnut St, Boston, MA 02215\"          |1               |700       |231       |700     |469     |\n",
            "|2023-01-28T14:15:00.000|141235  |Lightning Charging Cable  |5563319511488|Alimentation|\"185 Maple St, Portland, OR 97035\"         |1               |14.95     |7.475     |14.95   |7.475   |\n",
            "|2023-01-17T13:33:00.000|141236  |Wired Headphones          |2113973395220|Vêtements   |\"538 Adams St, San Francisco, CA 94016\"    |2               |11.99     |5.995     |23.98   |11.99   |\n",
            "|2023-01-05T20:33:00.000|141237  |27in FHD Monitor          |3069156759167|Sports      |\"738 10th St, Los Angeles, CA 90001\"       |1               |149.99    |97.4935   |149.99  |52.4965 |\n",
            "|2023-01-25T11:59:00.000|141238  |Wired Headphones          |9692680938163|Électronique|\"387 10th St, Austin, TX 73301\"            |1               |11.99     |5.995     |11.99   |5.995   |\n",
            "|2023-01-29T20:22:00.000|141239  |AAA Batteries (4-pack)    |2953868554188|Alimentation|\"775 Willow St, San Francisco, CA 94016\"   |1               |2.99      |1.495     |2.99    |1.495   |\n",
            "|2023-01-26T12:16:00.000|141240  |27in 4K Gaming Monitor    |5173670800988|Vêtements   |\"979 Park St, Los Angeles, CA 90001\"       |1               |389.99    |128.6967  |389.99  |261.2933|\n",
            "|2023-01-05T12:04:00.000|141241  |USB-C Charging Cable      |8051736777568|Vêtements   |\"181 6th St, San Francisco, CA 94016\"      |1               |11.95     |5.975     |11.95   |5.975   |\n",
            "|2023-01-01T10:30:00.000|141242  |Bose SoundSport Headphones|1508418177978|Électronique|\"867 Willow St, Los Angeles, CA 90001\"     |1               |99.99     |49.995    |99.99   |49.995  |\n",
            "|2023-01-22T21:20:00.000|141243  |Apple Airpods Headphones  |1386344211590|Électronique|\"657 Johnson St, San Francisco, CA 94016\"  |1               |150       |97.5      |150     |52.5    |\n",
            "|2023-01-07T11:29:00.000|141244  |Apple Airpods Headphones  |4332898830865|Vêtements   |\"492 Walnut St, San Francisco, CA 94016\"   |1               |150       |97.5      |150     |52.5    |\n",
            "|2023-01-31T10:12:00.000|141245  |Macbook Pro Laptop        |1169379570345|Vêtements   |\"322 6th St, San Francisco, CA 94016\"      |1               |1700      |561       |1700    |1139    |\n",
            "|2023-01-09T18:57:00.000|141246  |AAA Batteries (4-pack)    |4436184749366|Vêtements   |\"618 7th St, Los Angeles, CA 90001\"        |3               |2.99      |1.495     |8.97    |4.485   |\n",
            "|2023-01-25T19:19:00.000|141247  |27in FHD Monitor          |7313825995563|Vêtements   |\"512 Wilson St, San Francisco, CA 94016\"   |1               |149.99    |97.4935   |149.99  |52.4965 |\n",
            "|2023-01-03T21:54:00.000|141248  |Flatscreen TV             |4062756463060|Électronique|\"363 Spruce St, Austin, TX 73301\"          |1               |300       |99        |300     |201     |\n",
            "|2023-01-05T17:20:00.000|141249  |27in FHD Monitor          |9643428300795|Alimentation|\"440 Cedar St, Portland, OR 97035\"         |1               |149.99    |97.4935   |149.99  |52.4965 |\n",
            "|2023-01-10T11:20:00.000|141250  |Vareebadd Phone           |6721780072847|Alimentation|\"471 Center St, Los Angeles, CA 90001\"     |1               |400       |132       |400     |268     |\n",
            "|2023-01-24T08:13:00.000|141251  |Apple Airpods Headphones  |2700099961823|Alimentation|\"414 Walnut St, Boston, MA 02215\"          |1               |150       |97.5      |150     |52.5    |\n",
            "|2023-01-30T09:28:00.000|141252  |USB-C Charging Cable      |3692435232121|Sports      |\"220 9th St, Los Angeles, CA 90001\"        |1               |11.95     |5.975     |11.95   |5.975   |\n",
            "|2023-01-17T00:09:00.000|141253  |AA Batteries (4-pack)     |6741495725758|Alimentation|\"385 11th St, Atlanta, GA 30301\"           |1               |3.84      |1.92      |3.84    |1.92    |\n",
            "|2023-01-08T11:51:00.000|141254  |AAA Batteries (4-pack)    |8219536039183|Électronique|\"238 Sunset St, Seattle, WA 98101\"         |1               |2.99      |1.495     |2.99    |1.495   |\n",
            "|2023-01-09T20:55:00.000|141255  |USB-C Charging Cable      |7739134543383|Alimentation|\"764 11th St, Los Angeles, CA 90001\"       |1               |11.95     |5.975     |11.95   |5.975   |\n",
            "|2023-01-29T10:40:00.000|141256  |Google Phone              |3693462265309|Électronique|\"675 Washington St, Portland, OR 97035\"    |1               |600       |198       |600     |402     |\n",
            "|2023-01-12T18:51:00.000|141257  |Apple Airpods Headphones  |8586659871618|Sports      |\"338 Highland St, San Francisco, CA 94016\" |1               |150       |97.5      |150     |52.5    |\n",
            "|2023-01-19T21:47:00.000|141258  |AA Batteries (4-pack)     |5050923931748|Sports      |\"820 1st St, San Francisco, CA 94016\"      |1               |3.84      |1.92      |3.84    |1.92    |\n",
            "|2023-01-20T17:26:00.000|141259  |AAA Batteries (4-pack)    |8114620073761|Alimentation|\"920 Adams St, San Francisco, CA 94016\"    |2               |2.99      |1.495     |5.98    |2.99    |\n",
            "|2023-01-01T22:00:00.000|141260  |AAA Batteries (4-pack)    |9690713913382|Alimentation|\"293 Hill St, San Francisco, CA 94016\"     |1               |2.99      |1.495     |2.99    |1.495   |\n",
            "|2023-01-09T18:14:00.000|141261  |USB-C Charging Cable      |3832854370801|Sports      |\"840 Lincoln St, Atlanta, GA 30301\"        |1               |11.95     |5.975     |11.95   |5.975   |\n",
            "|2023-01-16T12:35:00.000|141262  |AAA Batteries (4-pack)    |2888976535898|Sports      |\"291 Lincoln St, San Francisco, CA 94016\"  |1               |2.99      |1.495     |2.99    |1.495   |\n",
            "|2023-01-11T23:33:00.000|141263  |Bose SoundSport Headphones|3424458315091|Vêtements   |\"640 Spruce St, Boston, MA 02215\"          |1               |99.99     |49.995    |99.99   |49.995  |\n",
            "|2023-01-03T09:46:00.000|141264  |Apple Airpods Headphones  |8604681316768|Vêtements   |\"937 Highland St, New York City, NY 10001\" |1               |150       |97.5      |150     |52.5    |\n",
            "|2023-01-01T16:52:00.000|141265  |Apple Airpods Headphones  |8195982149575|Alimentation|\"853 Ridge St, Boston, MA 02215\"           |1               |150       |97.5      |150     |52.5    |\n",
            "|2023-01-02T22:21:00.000|141266  |27in 4K Gaming Monitor    |5423123907353|Sports      |\"834 4th St, Dallas, TX 75001\"             |1               |389.99    |128.6967  |389.99  |261.2933|\n",
            "|2023-01-09T08:28:00.000|141267  |Apple Airpods Headphones  |4263139574413|Sports      |\"649 Sunset St, Los Angeles, CA 90001\"     |1               |150       |97.5      |150     |52.5    |\n",
            "|2023-01-14T10:13:00.000|141268  |AA Batteries (4-pack)     |7300874677978|Vêtements   |\"611 Elm St, New York City, NY 10001\"      |1               |3.84      |1.92      |3.84    |1.92    |\n",
            "|2023-01-03T20:05:00.000|141269  |27in 4K Gaming Monitor    |9305101001075|Sports      |\"812 Jefferson St, Los Angeles, CA 90001\"  |1               |389.99    |128.6967  |389.99  |261.2933|\n",
            "|2023-01-27T23:10:00.000|141270  |Wired Headphones          |2490250792761|Vêtements   |\"469 Hill St, San Francisco, CA 94016\"     |1               |11.99     |5.995     |11.99   |5.995   |\n",
            "|2023-01-30T10:51:00.000|141271  |USB-C Charging Cable      |9012688756596|Électronique|\"90 13th St, Boston, MA 02215\"             |1               |11.95     |5.975     |11.95   |5.975   |\n",
            "|2023-01-12T13:09:00.000|141272  |AAA Batteries (4-pack)    |6609361466507|Sports      |\"818 Lincoln St, New York City, NY 10001\"  |1               |2.99      |1.495     |2.99    |1.495   |\n",
            "|2023-01-29T12:04:00.000|141273  |Wired Headphones          |2009029820937|Sports      |\"994 13th St, Boston, MA 02215\"            |2               |11.99     |5.995     |23.98   |11.99   |\n",
            "|2023-01-17T11:30:00.000|141274  |USB-C Charging Cable      |2458564127476|Sports      |\"8 Jackson St, Los Angeles, CA 90001\"      |1               |11.95     |5.975     |11.95   |5.975   |\n",
            "|2023-01-07T16:06:00.000|141275  |USB-C Charging Cable      |6813732433143|Sports      |\"610 Walnut St, Austin, TX 73301\"          |1               |11.95     |5.975     |11.95   |5.975   |\n",
            "|2023-01-07T16:06:00.000|141275  |Wired Headphones          |5762058821030|Vêtements   |\"610 Walnut St, Austin, TX 73301\"          |1               |11.99     |5.995     |11.99   |5.995   |\n",
            "|2023-01-21T22:23:00.000|141276  |Lightning Charging Cable  |4437399640739|Sports      |\"63 Cherry St, Los Angeles, CA 90001\"      |1               |14.95     |7.475     |14.95   |7.475   |\n",
            "|2023-01-13T19:07:00.000|141277  |Bose SoundSport Headphones|7022455706599|Électronique|\"370 Lakeview St, Austin, TX 73301\"        |1               |99.99     |49.995    |99.99   |49.995  |\n",
            "|2023-01-26T12:14:00.000|141278  |Lightning Charging Cable  |3945577425210|Alimentation|\"100 Cherry St, New York City, NY 10001\"   |1               |14.95     |7.475     |14.95   |7.475   |\n",
            "|2023-01-03T19:10:00.000|141279  |Lightning Charging Cable  |2254370169596|Sports      |\"938 14th St, Boston, MA 02215\"            |1               |14.95     |7.475     |14.95   |7.475   |\n",
            "|2023-01-20T16:10:00.000|141280  |AAA Batteries (4-pack)    |6968732579290|Électronique|\"530 7th St, Los Angeles, CA 90001\"        |1               |2.99      |1.495     |2.99    |1.495   |\n",
            "|2023-01-05T16:51:00.000|141281  |Lightning Charging Cable  |8251683479623|Alimentation|\"274 2nd St, Atlanta, GA 30301\"            |1               |14.95     |7.475     |14.95   |7.475   |\n",
            "|2023-01-11T18:10:00.000|141282  |Vareebadd Phone           |7519985342994|Sports      |\"125 Center St, New York City, NY 10001\"   |1               |400       |132       |400     |268     |\n",
            "|2023-01-02T16:16:00.000|141283  |Flatscreen TV             |8633300480139|Électronique|\"68 Hickory St, Seattle, WA 98101\"         |1               |300       |99        |300     |201     |\n",
            "|2023-01-29T18:30:00.000|141284  |Wired Headphones          |8507379009167|Vêtements   |\"462 1st St, Los Angeles, CA 90001\"        |1               |11.99     |5.995     |11.99   |5.995   |\n",
            "|2023-01-14T14:13:00.000|141285  |AAA Batteries (4-pack)    |2484326257641|Alimentation|\"447 Cedar St, Seattle, WA 98101\"          |3               |2.99      |1.495     |8.97    |4.485   |\n",
            "|2023-01-02T20:33:00.000|141286  |27in 4K Gaming Monitor    |3429904483225|Vêtements   |\"505 Hickory St, Dallas, TX 75001\"         |1               |389.99    |128.6967  |389.99  |261.2933|\n",
            "|2023-01-31T08:38:00.000|141287  |Bose SoundSport Headphones|8932499335234|Alimentation|\"386 Elm St, San Francisco, CA 94016\"      |1               |99.99     |49.995    |99.99   |49.995  |\n",
            "|2023-01-19T08:17:00.000|141288  |Macbook Pro Laptop        |3957658946411|Sports      |\"789 Washington St, Los Angeles, CA 90001\" |1               |1700      |561       |1700    |1139    |\n",
            "|2023-01-28T11:17:00.000|141289  |20in Monitor              |1334777256730|Alimentation|\"534 Elm St, Atlanta, GA 30301\"            |1               |109.99    |71.4935   |109.99  |38.4965 |\n",
            "|2023-01-02T08:25:00.000|141290  |Apple Airpods Headphones  |9390176017956|Vêtements   |\"4 1st St, Los Angeles, CA 90001\"          |1               |150       |97.5      |150     |52.5    |\n",
            "|2023-01-02T08:25:00.000|141290  |AA Batteries (4-pack)     |5538988214120|Vêtements   |\"4 1st St, Los Angeles, CA 90001\"          |3               |3.84      |1.92      |11.52   |5.76    |\n",
            "|2023-01-26T18:11:00.000|141291  |AA Batteries (4-pack)     |9989998049236|Sports      |\"632 13th St, Los Angeles, CA 90001\"       |1               |3.84      |1.92      |3.84    |1.92    |\n",
            "|2023-01-21T08:46:00.000|141292  |AAA Batteries (4-pack)    |4810474239131|Vêtements   |\"847 Ridge St, Los Angeles, CA 90001\"      |1               |2.99      |1.495     |2.99    |1.495   |\n",
            "|2023-01-18T12:21:00.000|141293  |USB-C Charging Cable      |3599006367992|Sports      |\"880 Washington St, Boston, MA 02215\"      |1               |11.95     |5.975     |11.95   |5.975   |\n",
            "|2023-01-25T08:12:00.000|141294  |Bose SoundSport Headphones|4880895321034|Électronique|\"907 Highland St, San Francisco, CA 94016\" |1               |99.99     |49.995    |99.99   |49.995  |\n",
            "|2023-01-06T20:06:00.000|141295  |AA Batteries (4-pack)     |1276874624774|Vêtements   |\"898 Lakeview St, Austin, TX 73301\"        |1               |3.84      |1.92      |3.84    |1.92    |\n",
            "|2023-01-20T00:21:00.000|141296  |USB-C Charging Cable      |9557772918548|Électronique|\"889 Cedar St, Atlanta, GA 30301\"          |1               |11.95     |5.975     |11.95   |5.975   |\n",
            "|2023-01-04T11:09:00.000|141297  |Lightning Charging Cable  |3239456558825|Sports      |\"566 Highland St, San Francisco, CA 94016\" |1               |14.95     |7.475     |14.95   |7.475   |\n",
            "|2023-01-21T13:24:00.000|141298  |Lightning Charging Cable  |3941481759871|Vêtements   |\"81 10th St, Dallas, TX 75001\"             |1               |14.95     |7.475     |14.95   |7.475   |\n",
            "|2023-01-31T23:23:00.000|141299  |AAA Batteries (4-pack)    |3021537163246|Alimentation|\"836 Hill St, Dallas, TX 75001\"            |1               |2.99      |1.495     |2.99    |1.495   |\n",
            "|2023-01-23T10:21:00.000|141300  |Apple Airpods Headphones  |8895422924583|Vêtements   |\"121 Cherry St, Boston, MA 02215\"          |1               |150       |97.5      |150     |52.5    |\n",
            "|2023-01-27T11:58:00.000|141301  |Apple Airpods Headphones  |8598109744000|Sports      |\"867 Hill St, New York City, NY 10001\"     |1               |150       |97.5      |150     |52.5    |\n",
            "|2023-01-18T20:12:00.000|141302  |AAA Batteries (4-pack)    |5743606040967|Alimentation|\"90 14th St, Portland, OR 97035\"           |2               |2.99      |1.495     |5.98    |2.99    |\n",
            "|2023-01-19T09:23:00.000|141303  |AA Batteries (4-pack)     |3988945383921|Sports      |\"313 14th St, Seattle, WA 98101\"           |1               |3.84      |1.92      |3.84    |1.92    |\n",
            "|2023-01-28T13:10:00.000|141304  |USB-C Charging Cable      |2795221908451|Sports      |\"363 Willow St, Los Angeles, CA 90001\"     |1               |11.95     |5.975     |11.95   |5.975   |\n",
            "|2023-01-27T16:51:00.000|141305  |AAA Batteries (4-pack)    |9992004933513|Vêtements   |\"756 Wilson St, Austin, TX 73301\"          |3               |2.99      |1.495     |8.97    |4.485   |\n",
            "|2023-01-19T10:25:00.000|141306  |Wired Headphones          |1738575276006|Sports      |\"458 Forest St, San Francisco, CA 94016\"   |1               |11.99     |5.995     |11.99   |5.995   |\n",
            "|2023-01-11T11:18:00.000|141307  |AAA Batteries (4-pack)    |3742602898811|Électronique|\"895 Johnson St, Boston, MA 02215\"         |1               |2.99      |1.495     |2.99    |1.495   |\n",
            "|2023-01-12T12:00:00.000|141308  |27in FHD Monitor          |2444962153827|Vêtements   |\"926 Cedar St, Portland, OR 97035\"         |1               |149.99    |97.4935   |149.99  |52.4965 |\n",
            "|2023-01-20T07:02:00.000|141309  |AAA Batteries (4-pack)    |3790541892260|Électronique|\"423 Elm St, San Francisco, CA 94016\"      |2               |2.99      |1.495     |5.98    |2.99    |\n",
            "|2023-01-07T13:32:00.000|141310  |AAA Batteries (4-pack)    |3674220232271|Alimentation|\"679 8th St, San Francisco, CA 94016\"      |1               |2.99      |1.495     |2.99    |1.495   |\n",
            "|2023-01-28T12:45:00.000|141311  |34in Ultrawide Monitor    |8131150697525|Électronique|\"223 North St, Atlanta, GA 30301\"          |1               |379.99    |125.3967  |379.99  |254.5933|\n",
            "|2023-01-08T23:20:00.000|141312  |Apple Airpods Headphones  |7813157077566|Vêtements   |\"741 11th St, San Francisco, CA 94016\"     |1               |150       |97.5      |150     |52.5    |\n",
            "|2023-01-09T15:03:00.000|141313  |Lightning Charging Cable  |8870146702235|Vêtements   |\"38 Johnson St, Los Angeles, CA 90001\"     |1               |14.95     |7.475     |14.95   |7.475   |\n",
            "|2023-01-13T23:51:00.000|141314  |Macbook Pro Laptop        |2892197004217|Sports      |\"700 Jefferson St, New York City, NY 10001\"|1               |1700      |561       |1700    |1139    |\n",
            "|2023-01-10T01:32:00.000|141315  |USB-C Charging Cable      |1997185248353|Électronique|\"842 8th St, Seattle, WA 98101\"            |1               |11.95     |5.975     |11.95   |5.975   |\n",
            "|2023-01-01T07:26:00.000|141316  |AAA Batteries (4-pack)    |8395970487080|Alimentation|\"235 South St, Seattle, WA 98101\"          |3               |2.99      |1.495     |8.97    |4.485   |\n",
            "|2023-01-21T11:18:00.000|141317  |27in FHD Monitor          |9571682095729|Vêtements   |\"875 Meadow St, New York City, NY 10001\"   |1               |149.99    |97.4935   |149.99  |52.4965 |\n",
            "|2023-01-09T15:21:00.000|141318  |Bose SoundSport Headphones|9187067749620|Alimentation|\"789 Lakeview St, Boston, MA 02215\"        |1               |99.99     |49.995    |99.99   |49.995  |\n",
            "|2023-01-01T10:43:00.000|141319  |Bose SoundSport Headphones|7326188331914|Alimentation|\"548 Maple St, Boston, MA 02215\"           |1               |99.99     |49.995    |99.99   |49.995  |\n",
            "|2023-01-24T13:37:00.000|141320  |AA Batteries (4-pack)     |4371695914307|Électronique|\"326 12th St, Los Angeles, CA 90001\"       |1               |3.84      |1.92      |3.84    |1.92    |\n",
            "|2023-01-10T09:07:00.000|141321  |Bose SoundSport Headphones|4225062546369|Alimentation|\"207 8th St, Los Angeles, CA 90001\"        |1               |99.99     |49.995    |99.99   |49.995  |\n",
            "|2023-01-12T21:56:00.000|141322  |AAA Batteries (4-pack)    |6636561921176|Sports      |\"816 Lake St, Boston, MA 02215\"            |2               |2.99      |1.495     |5.98    |2.99    |\n",
            "|2023-01-17T21:54:00.000|141323  |USB-C Charging Cable      |7513253917740|Électronique|\"240 River St, New York City, NY 10001\"    |1               |11.95     |5.975     |11.95   |5.975   |\n",
            "|2023-01-04T23:36:00.000|141324  |USB-C Charging Cable      |3941057910337|Vêtements   |\"851 Maple St, San Francisco, CA 94016\"    |1               |11.95     |5.975     |11.95   |5.975   |\n",
            "|2023-01-23T15:17:00.000|141325  |Bose SoundSport Headphones|9430106405626|Électronique|\"880 Lake St, Austin, TX 73301\"            |1               |99.99     |49.995    |99.99   |49.995  |\n",
            "|2023-01-05T13:49:00.000|141326  |Google Phone              |4599223183416|Électronique|\"131 Center St, San Francisco, CA 94016\"   |1               |600       |198       |600     |402     |\n",
            "|2023-01-31T01:38:00.000|141327  |USB-C Charging Cable      |1617822413060|Sports      |\"238 Washington St, Los Angeles, CA 90001\" |1               |11.95     |5.975     |11.95   |5.975   |\n",
            "|2023-01-06T23:18:00.000|141328  |ThinkPad Laptop           |3335441961489|Alimentation|\"736 5th St, Seattle, WA 98101\"            |1               |999.99    |329.9967  |999.99  |669.9933|\n",
            "|2023-01-01T16:01:00.000|141329  |USB-C Charging Cable      |6757344694676|Électronique|\"122 5th St, Portland, ME 04101\"           |1               |11.95     |5.975     |11.95   |5.975   |\n",
            "|2023-01-21T13:04:00.000|141330  |Wired Headphones          |5149226101332|Alimentation|\"391 5th St, Portland, OR 97035\"           |1               |11.99     |5.995     |11.99   |5.995   |\n",
            "|2023-01-09T18:32:00.000|141331  |Flatscreen TV             |7572900898157|Électronique|\"299 Park St, San Francisco, CA 94016\"     |1               |300       |99        |300     |201     |\n",
            "|2023-01-19T18:52:00.000|141332  |USB-C Charging Cable      |9765297802760|Vêtements   |\"207 7th St, Los Angeles, CA 90001\"        |1               |11.95     |5.975     |11.95   |5.975   |\n",
            "|2023-01-01T13:58:00.000|141333  |27in FHD Monitor          |5735966889669|Alimentation|\"554 10th St, Los Angeles, CA 90001\"       |1               |149.99    |97.4935   |149.99  |52.4965 |\n",
            "|2023-01-15T02:05:00.000|141334  |USB-C Charging Cable      |2068080300703|Alimentation|\"459 4th St, San Francisco, CA 94016\"      |1               |11.95     |5.975     |11.95   |5.975   |\n",
            "|2023-01-12T18:16:00.000|141335  |AAA Batteries (4-pack)    |2058342872013|Alimentation|\"174 4th St, Los Angeles, CA 90001\"        |5               |2.99      |1.495     |14.95   |7.475   |\n",
            "|2023-01-09T18:23:00.000|141336  |iPhone                    |2453023947358|Vêtements   |\"811 Hickory St, Portland, OR 97035\"       |1               |700       |231       |700     |469     |\n",
            "|2023-01-09T09:22:00.000|141337  |Bose SoundSport Headphones|5500387518508|Électronique|\"947 Church St, San Francisco, CA 94016\"   |1               |99.99     |49.995    |99.99   |49.995  |\n",
            "|2023-01-29T16:19:00.000|141338  |AAA Batteries (4-pack)    |5513922953821|Alimentation|\"542 4th St, Dallas, TX 75001\"             |1               |2.99      |1.495     |2.99    |1.495   |\n",
            "|2023-01-28T12:52:00.000|141339  |AAA Batteries (4-pack)    |7567049972309|Sports      |\"539 Lakeview St, Dallas, TX 75001\"        |1               |2.99      |1.495     |2.99    |1.495   |\n",
            "|2023-01-27T14:30:00.000|141340  |Lightning Charging Cable  |2447527710441|Électronique|\"710 Johnson St, Boston, MA 02215\"         |1               |14.95     |7.475     |14.95   |7.475   |\n",
            "|2023-01-13T10:09:00.000|141341  |LG Dryer                  |3693247139316|Vêtements   |\"844 Walnut St, Austin, TX 73301\"          |1               |600       |198       |600     |402     |\n",
            "|2023-01-26T21:13:00.000|141342  |Wired Headphones          |1964937699362|Électronique|\"119 9th St, Seattle, WA 98101\"            |1               |11.99     |5.995     |11.99   |5.995   |\n",
            "|2023-01-24T13:36:00.000|141343  |Bose SoundSport Headphones|2161665949509|Sports      |\"157 1st St, New York City, NY 10001\"      |1               |99.99     |49.995    |99.99   |49.995  |\n",
            "|2023-01-20T12:38:00.000|141344  |Apple Airpods Headphones  |2687143374815|Sports      |\"443 Washington St, Portland, OR 97035\"    |1               |150       |97.5      |150     |52.5    |\n",
            "|2023-01-09T13:55:00.000|141345  |USB-C Charging Cable      |8036467119144|Électronique|\"398 5th St, San Francisco, CA 94016\"      |1               |11.95     |5.975     |11.95   |5.975   |\n",
            "|2023-01-14T13:59:00.000|141346  |Apple Airpods Headphones  |9856974146595|Sports      |\"285 Cherry St, Boston, MA 02215\"          |1               |150       |97.5      |150     |52.5    |\n",
            "|2023-01-27T17:46:00.000|141347  |AA Batteries (4-pack)     |4286992161856|Alimentation|\"885 Walnut St, Atlanta, GA 30301\"         |1               |3.84      |1.92      |3.84    |1.92    |\n",
            "|2023-01-26T18:56:00.000|141348  |USB-C Charging Cable      |8893195604756|Vêtements   |\"493 5th St, Portland, OR 97035\"           |2               |11.95     |5.975     |23.9    |11.95   |\n",
            "|2023-01-03T20:51:00.000|141349  |Lightning Charging Cable  |9861394717513|Vêtements   |\"886 10th St, New York City, NY 10001\"     |1               |14.95     |7.475     |14.95   |7.475   |\n",
            "|2023-01-01T11:17:00.000|141350  |Lightning Charging Cable  |2897939401192|Vêtements   |\"804 River St, San Francisco, CA 94016\"    |1               |14.95     |7.475     |14.95   |7.475   |\n",
            "|2023-01-24T17:02:00.000|141351  |USB-C Charging Cable      |6826664464310|Électronique|\"865 Church St, San Francisco, CA 94016\"   |2               |11.95     |5.975     |23.9    |11.95   |\n",
            "|2023-01-11T19:07:00.000|141352  |Lightning Charging Cable  |2890452735932|Vêtements   |\"800 4th St, Los Angeles, CA 90001\"        |1               |14.95     |7.475     |14.95   |7.475   |\n",
            "|2023-01-26T10:35:00.000|141353  |USB-C Charging Cable      |7623107737484|Vêtements   |\"870 Cherry St, New York City, NY 10001\"   |1               |11.95     |5.975     |11.95   |5.975   |\n",
            "|2023-01-03T11:12:00.000|141354  |Bose SoundSport Headphones|1869928502248|Électronique|\"869 Hill St, Atlanta, GA 30301\"           |1               |99.99     |49.995    |99.99   |49.995  |\n",
            "|2023-01-18T15:24:00.000|141355  |27in 4K Gaming Monitor    |5083427771685|Électronique|\"674 Main St, Dallas, TX 75001\"            |1               |389.99    |128.6967  |389.99  |261.2933|\n",
            "|2023-01-09T17:32:00.000|141356  |Lightning Charging Cable  |8733985102810|Vêtements   |\"336 1st St, Boston, MA 02215\"             |1               |14.95     |7.475     |14.95   |7.475   |\n",
            "|2023-01-23T05:30:00.000|141357  |Lightning Charging Cable  |6861217947966|Électronique|\"850 River St, Atlanta, GA 30301\"          |1               |14.95     |7.475     |14.95   |7.475   |\n",
            "|2023-01-05T15:31:00.000|141358  |Lightning Charging Cable  |5899330525666|Alimentation|\"911 Madison St, San Francisco, CA 94016\"  |1               |14.95     |7.475     |14.95   |7.475   |\n",
            "|2023-01-09T22:21:00.000|141359  |AAA Batteries (4-pack)    |7190204643454|Électronique|\"383 11th St, Seattle, WA 98101\"           |2               |2.99      |1.495     |5.98    |2.99    |\n",
            "|2023-01-17T21:00:00.000|141360  |Macbook Pro Laptop        |4898157007261|Alimentation|\"263 Meadow St, Los Angeles, CA 90001\"     |1               |1700      |561       |1700    |1139    |\n",
            "|2023-01-23T15:39:00.000|141361  |Apple Airpods Headphones  |5160754547693|Électronique|\"181 Lakeview St, Portland, OR 97035\"      |2               |150       |97.5      |300     |105     |\n",
            "|2023-01-02T22:17:00.000|141362  |Lightning Charging Cable  |5216181481849|Alimentation|\"392 Cherry St, Atlanta, GA 30301\"         |1               |14.95     |7.475     |14.95   |7.475   |\n",
            "|2023-01-08T06:24:00.000|141363  |Wired Headphones          |1622123382502|Sports      |\"921 Highland St, Dallas, TX 75001\"        |1               |11.99     |5.995     |11.99   |5.995   |\n",
            "|2023-01-01T07:46:00.000|141364  |AA Batteries (4-pack)     |6226783330388|Électronique|\"657 Lincoln St, Dallas, TX 75001\"         |1               |3.84      |1.92      |3.84    |1.92    |\n",
            "|2023-01-10T11:19:00.000|141365  |Vareebadd Phone           |2984581451968|Alimentation|\"20 Dogwood St, New York City, NY 10001\"   |1               |400       |132       |400     |268     |\n",
            "|2023-01-10T11:19:00.000|141365  |Wired Headphones          |9336213253074|Électronique|\"20 Dogwood St, New York City, NY 10001\"   |1               |11.99     |5.995     |11.99   |5.995   |\n",
            "|2023-01-17T22:34:00.000|141366  |Flatscreen TV             |9422250408078|Sports      |\"803 Church St, Seattle, WA 98101\"         |1               |300       |99        |300     |201     |\n",
            "|2023-01-09T10:06:00.000|141367  |27in 4K Gaming Monitor    |4637385864399|Sports      |\"23 13th St, San Francisco, CA 94016\"      |1               |389.99    |128.6967  |389.99  |261.2933|\n",
            "|2023-01-10T21:39:00.000|141368  |USB-C Charging Cable      |9072352895358|Alimentation|\"387 Hill St, Los Angeles, CA 90001\"       |1               |11.95     |5.975     |11.95   |5.975   |\n",
            "|2023-01-21T21:03:00.000|141369  |Lightning Charging Cable  |4274934655851|Vêtements   |\"785 9th St, San Francisco, CA 94016\"      |1               |14.95     |7.475     |14.95   |7.475   |\n",
            "|2023-01-24T20:53:00.000|141370  |AAA Batteries (4-pack)    |4731118510328|Sports      |\"375 Center St, Seattle, WA 98101\"         |2               |2.99      |1.495     |5.98    |2.99    |\n",
            "|2023-01-23T18:34:00.000|141371  |Lightning Charging Cable  |6811446717063|Électronique|\"685 West St, Atlanta, GA 30301\"           |1               |14.95     |7.475     |14.95   |7.475   |\n",
            "|2023-01-26T10:07:00.000|141372  |AAA Batteries (4-pack)    |9232347862381|Électronique|\"134 Hickory St, Portland, ME 04101\"       |1               |2.99      |1.495     |2.99    |1.495   |\n",
            "|2023-01-20T13:08:00.000|141373  |27in FHD Monitor          |6960528486519|Alimentation|\"82 Hickory St, San Francisco, CA 94016\"   |1               |149.99    |97.4935   |149.99  |52.4965 |\n",
            "|2023-01-14T10:12:00.000|141374  |Wired Headphones          |5588098157823|Vêtements   |\"386 12th St, Boston, MA 02215\"            |1               |11.99     |5.995     |11.99   |5.995   |\n",
            "|2023-01-10T13:51:00.000|141375  |27in 4K Gaming Monitor    |8171971097683|Vêtements   |\"49 Center St, Los Angeles, CA 90001\"      |1               |389.99    |128.6967  |389.99  |261.2933|\n",
            "|2023-01-20T14:57:00.000|141376  |Wired Headphones          |6633779583659|Alimentation|\"32 West St, Los Angeles, CA 90001\"        |1               |11.99     |5.995     |11.99   |5.995   |\n",
            "|2023-01-20T15:12:00.000|141377  |Wired Headphones          |3138959044400|Sports      |\"711 11th St, San Francisco, CA 94016\"     |1               |11.99     |5.995     |11.99   |5.995   |\n",
            "|2023-01-22T10:25:00.000|141378  |USB-C Charging Cable      |4675191790918|Électronique|\"777 North St, Boston, MA 02215\"           |1               |11.95     |5.975     |11.95   |5.975   |\n",
            "|2023-01-25T18:00:00.000|141379  |AA Batteries (4-pack)     |7879262389139|Sports      |\"378 Center St, San Francisco, CA 94016\"   |1               |3.84      |1.92      |3.84    |1.92    |\n",
            "|2023-01-17T18:45:00.000|141380  |USB-C Charging Cable      |5977462016922|Électronique|\"868 14th St, Los Angeles, CA 90001\"       |1               |11.95     |5.975     |11.95   |5.975   |\n",
            "|2023-01-03T18:22:00.000|141381  |Bose SoundSport Headphones|2692809518964|Sports      |\"336 Jackson St, Los Angeles, CA 90001\"    |1               |99.99     |49.995    |99.99   |49.995  |\n",
            "|2023-01-16T13:50:00.000|141382  |AAA Batteries (4-pack)    |6419823204939|Sports      |\"613 Ridge St, Dallas, TX 75001\"           |1               |2.99      |1.495     |2.99    |1.495   |\n",
            "|2023-01-08T10:01:00.000|141383  |AAA Batteries (4-pack)    |4572323637166|Alimentation|\"418 11th St, Boston, MA 02215\"            |1               |2.99      |1.495     |2.99    |1.495   |\n",
            "|2023-01-03T00:14:00.000|141384  |Google Phone              |4477013274593|Électronique|\"223 Jackson St, Boston, MA 02215\"         |1               |600       |198       |600     |402     |\n",
            "|2023-01-03T00:14:00.000|141384  |USB-C Charging Cable      |2310492646245|Alimentation|\"223 Jackson St, Boston, MA 02215\"         |1               |11.95     |5.975     |11.95   |5.975   |\n",
            "|2023-01-10T12:59:00.000|141385  |Macbook Pro Laptop        |9336243190730|Sports      |\"502 Walnut St, Atlanta, GA 30301\"         |1               |1700      |561       |1700    |1139    |\n",
            "|2023-01-08T19:27:00.000|141386  |Lightning Charging Cable  |6563440120633|Alimentation|\"692 13th St, New York City, NY 10001\"     |1               |14.95     |7.475     |14.95   |7.475   |\n",
            "|2023-01-17T11:12:00.000|141387  |AAA Batteries (4-pack)    |6172565372246|Vêtements   |\"807 Jackson St, San Francisco, CA 94016\"  |1               |2.99      |1.495     |2.99    |1.495   |\n",
            "|2023-01-22T10:53:00.000|141388  |Lightning Charging Cable  |8898725736506|Alimentation|\"24 Park St, Dallas, TX 75001\"             |1               |14.95     |7.475     |14.95   |7.475   |\n",
            "|2023-01-26T11:07:00.000|141389  |AA Batteries (4-pack)     |4717637025243|Alimentation|\"176 Church St, Los Angeles, CA 90001\"     |1               |3.84      |1.92      |3.84    |1.92    |\n",
            "|2023-01-26T11:22:00.000|141390  |Wired Headphones          |5663329163205|Sports      |\"667 Park St, New York City, NY 10001\"     |1               |11.99     |5.995     |11.99   |5.995   |\n",
            "|2023-01-31T10:02:00.000|141391  |Bose SoundSport Headphones|1140729220447|Alimentation|\"375 Johnson St, New York City, NY 10001\"  |1               |99.99     |49.995    |99.99   |49.995  |\n",
            "|2023-01-25T13:51:00.000|141392  |Apple Airpods Headphones  |1944397478598|Vêtements   |\"755 Cherry St, Seattle, WA 98101\"         |1               |150       |97.5      |150     |52.5    |\n",
            "|2023-01-18T17:57:00.000|141393  |USB-C Charging Cable      |9154102342517|Électronique|\"240 Meadow St, Boston, MA 02215\"          |1               |11.95     |5.975     |11.95   |5.975   |\n",
            "|2023-01-06T16:54:00.000|141394  |iPhone                    |6557914369516|Électronique|\"534 12th St, San Francisco, CA 94016\"     |1               |700       |231       |700     |469     |\n",
            "|2023-01-29T16:20:00.000|141395  |AAA Batteries (4-pack)    |6755546276339|Sports      |\"790 Hickory St, Portland, ME 04101\"       |1               |2.99      |1.495     |2.99    |1.495   |\n",
            "|2023-01-26T14:10:00.000|141396  |USB-C Charging Cable      |2553148856494|Sports      |\"141 Elm St, San Francisco, CA 94016\"      |1               |11.95     |5.975     |11.95   |5.975   |\n",
            "|2023-01-13T12:59:00.000|141397  |Lightning Charging Cable  |7828761823422|Alimentation|\"940 8th St, New York City, NY 10001\"      |1               |14.95     |7.475     |14.95   |7.475   |\n",
            "|2023-01-04T16:31:00.000|141398  |AAA Batteries (4-pack)    |8202742459278|Électronique|\"33 Jackson St, Dallas, TX 75001\"          |1               |2.99      |1.495     |2.99    |1.495   |\n",
            "|2023-01-17T09:57:00.000|141399  |ThinkPad Laptop           |6460217819643|Alimentation|\"830 Walnut St, Atlanta, GA 30301\"         |1               |999.99    |329.9967  |999.99  |669.9933|\n",
            "|2023-01-18T18:09:00.000|141400  |Lightning Charging Cable  |4760493229811|Vêtements   |\"215 Park St, New York City, NY 10001\"     |1               |14.95     |7.475     |14.95   |7.475   |\n",
            "|2023-01-23T12:50:00.000|141401  |Apple Airpods Headphones  |2978752117594|Sports      |\"34 Cedar St, Portland, OR 97035\"          |1               |150       |97.5      |150     |52.5    |\n",
            "|2023-01-07T12:56:00.000|141402  |AAA Batteries (4-pack)    |7560352898387|Électronique|\"939 Lakeview St, Atlanta, GA 30301\"       |1               |2.99      |1.495     |2.99    |1.495   |\n",
            "|2023-01-26T16:41:00.000|141403  |Lightning Charging Cable  |5407208074325|Vêtements   |\"216 Meadow St, Boston, MA 02215\"          |1               |14.95     |7.475     |14.95   |7.475   |\n",
            "|2023-01-29T20:06:00.000|141404  |AA Batteries (4-pack)     |7080731620631|Vêtements   |\"200 14th St, San Francisco, CA 94016\"     |1               |3.84      |1.92      |3.84    |1.92    |\n",
            "|2023-01-29T11:00:00.000|141405  |Wired Headphones          |2356744859220|Alimentation|\"247 Forest St, Los Angeles, CA 90001\"     |1               |11.99     |5.995     |11.99   |5.995   |\n",
            "|2023-01-28T12:02:00.000|141406  |USB-C Charging Cable      |7537967606333|Électronique|\"110 13th St, Seattle, WA 98101\"           |1               |11.95     |5.975     |11.95   |5.975   |\n",
            "|2023-01-01T16:06:00.000|141407  |Apple Airpods Headphones  |7984447015023|Sports      |\"946 12th St, Portland, ME 04101\"          |1               |150       |97.5      |150     |52.5    |\n",
            "|2023-01-07T13:25:00.000|141408  |Apple Airpods Headphones  |2295476248120|Sports      |\"103 14th St, San Francisco, CA 94016\"     |1               |150       |97.5      |150     |52.5    |\n",
            "|2023-01-01T21:49:00.000|141409  |Bose SoundSport Headphones|6756439969753|Électronique|\"36 Highland St, Portland, ME 04101\"       |1               |99.99     |49.995    |99.99   |49.995  |\n",
            "|2023-01-03T22:02:00.000|141410  |27in FHD Monitor          |9851783539987|Sports      |\"890 6th St, Dallas, TX 75001\"             |1               |149.99    |97.4935   |149.99  |52.4965 |\n",
            "|2023-01-15T05:35:00.000|141411  |Wired Headphones          |4379433722276|Alimentation|\"350 Main St, New York City, NY 10001\"     |1               |11.99     |5.995     |11.99   |5.995   |\n",
            "|2023-01-14T17:16:00.000|141412  |AA Batteries (4-pack)     |2225755788048|Alimentation|\"397 Dogwood St, Atlanta, GA 30301\"        |2               |3.84      |1.92      |7.68    |3.84    |\n",
            "|2023-01-24T17:54:00.000|141413  |AA Batteries (4-pack)     |3170405342774|Électronique|\"793 5th St, San Francisco, CA 94016\"      |1               |3.84      |1.92      |3.84    |1.92    |\n",
            "|2023-01-26T03:38:00.000|141414  |Google Phone              |3016491715810|Vêtements   |\"609 14th St, New York City, NY 10001\"     |1               |600       |198       |600     |402     |\n",
            "|2023-01-12T19:02:00.000|141415  |Wired Headphones          |3269415940241|Vêtements   |\"81 Madison St, San Francisco, CA 94016\"   |1               |11.99     |5.995     |11.99   |5.995   |\n",
            "|2023-01-02T13:37:00.000|141416  |AAA Batteries (4-pack)    |8863804102309|Électronique|\"209 North St, Atlanta, GA 30301\"          |1               |2.99      |1.495     |2.99    |1.495   |\n",
            "|2023-01-03T08:21:00.000|141417  |Bose SoundSport Headphones|8265359122088|Sports      |\"207 1st St, San Francisco, CA 94016\"      |1               |99.99     |49.995    |99.99   |49.995  |\n",
            "|2023-01-10T12:48:00.000|141418  |Apple Airpods Headphones  |7694586455521|Vêtements   |\"145 Lakeview St, New York City, NY 10001\" |1               |150       |97.5      |150     |52.5    |\n",
            "|2023-01-22T11:53:00.000|141419  |Wired Headphones          |8372740958157|Électronique|\"910 Meadow St, San Francisco, CA 94016\"   |1               |11.99     |5.995     |11.99   |5.995   |\n",
            "|2023-01-09T12:19:00.000|141420  |Lightning Charging Cable  |8711784085856|Vêtements   |\"74 7th St, San Francisco, CA 94016\"       |2               |14.95     |7.475     |29.9    |14.95   |\n",
            "|2023-01-24T13:18:00.000|141421  |Flatscreen TV             |1216526441418|Vêtements   |\"154 7th St, Dallas, TX 75001\"             |1               |300       |99        |300     |201     |\n",
            "|2023-01-16T22:23:00.000|141422  |Apple Airpods Headphones  |6460543814611|Vêtements   |\"970 Lakeview St, Boston, MA 02215\"        |1               |150       |97.5      |150     |52.5    |\n",
            "|2023-01-06T13:41:00.000|141423  |Lightning Charging Cable  |1754326677178|Électronique|\"440 South St, New York City, NY 10001\"    |2               |14.95     |7.475     |29.9    |14.95   |\n",
            "|2023-01-13T19:49:00.000|141424  |Apple Airpods Headphones  |9376724699193|Alimentation|\"971 Walnut St, Atlanta, GA 30301\"         |1               |150       |97.5      |150     |52.5    |\n",
            "|2023-01-19T14:59:00.000|141425  |Wired Headphones          |9198122903033|Électronique|\"347 Hill St, Atlanta, GA 30301\"           |1               |11.99     |5.995     |11.99   |5.995   |\n",
            "|2023-01-12T12:57:00.000|141426  |Google Phone              |4418570614010|Sports      |\"824 Madison St, Dallas, TX 75001\"         |1               |600       |198       |600     |402     |\n",
            "|2023-01-16T14:44:00.000|141427  |USB-C Charging Cable      |5773417870042|Vêtements   |\"355 13th St, Los Angeles, CA 90001\"       |1               |11.95     |5.975     |11.95   |5.975   |\n",
            "|2023-01-22T10:06:00.000|141428  |AA Batteries (4-pack)     |6237033921261|Alimentation|\"295 West St, New York City, NY 10001\"     |1               |3.84      |1.92      |3.84    |1.92    |\n",
            "|2023-01-21T06:04:00.000|141429  |Apple Airpods Headphones  |4018888055296|Sports      |\"273 Hill St, Atlanta, GA 30301\"           |1               |150       |97.5      |150     |52.5    |\n",
            "+-----------------------+--------+--------------------------+-------------+------------+-------------------------------------------+----------------+----------+----------+--------+--------+\n",
            "only showing top 200 rows\n",
            "\n"
          ]
        }
      ]
    },
    {
      "cell_type": "code",
      "source": [
        "df = df.filter(~(date_format(col(\"order_date\"), \"H\").cast(\"int\").between(0, 5)))"
      ],
      "metadata": {
        "id": "kHWZh71UbQ-w"
      },
      "execution_count": 74,
      "outputs": []
    },
    {
      "cell_type": "code",
      "source": [
        "df.show(truncate=False)"
      ],
      "metadata": {
        "colab": {
          "base_uri": "https://localhost:8080/"
        },
        "id": "8imYhysdbh-P",
        "outputId": "f2db5b12-6789-4d50-9a55-2bc7c5f8775d"
      },
      "execution_count": 75,
      "outputs": [
        {
          "output_type": "stream",
          "name": "stdout",
          "text": [
            "+-----------------------+--------+--------------------------+-------------+------------+-----------------------------------------+----------------+----------+----------+--------+--------+\n",
            "|order_date             |order_id|product                   |product_id   |category    |purchase_address                         |quantity_ordered|price_each|cost_price|turnover|margin  |\n",
            "+-----------------------+--------+--------------------------+-------------+------------+-----------------------------------------+----------------+----------+----------+--------+--------+\n",
            "|2023-01-22T21:25:00.000|141234  |iPhone                    |5638008983335|Vêtements   |\"944 Walnut St, Boston, MA 02215\"        |1               |700       |231       |700     |469     |\n",
            "|2023-01-28T14:15:00.000|141235  |Lightning Charging Cable  |5563319511488|Alimentation|\"185 Maple St, Portland, OR 97035\"       |1               |14.95     |7.475     |14.95   |7.475   |\n",
            "|2023-01-17T13:33:00.000|141236  |Wired Headphones          |2113973395220|Vêtements   |\"538 Adams St, San Francisco, CA 94016\"  |2               |11.99     |5.995     |23.98   |11.99   |\n",
            "|2023-01-05T20:33:00.000|141237  |27in FHD Monitor          |3069156759167|Sports      |\"738 10th St, Los Angeles, CA 90001\"     |1               |149.99    |97.4935   |149.99  |52.4965 |\n",
            "|2023-01-25T11:59:00.000|141238  |Wired Headphones          |9692680938163|Électronique|\"387 10th St, Austin, TX 73301\"          |1               |11.99     |5.995     |11.99   |5.995   |\n",
            "|2023-01-29T20:22:00.000|141239  |AAA Batteries (4-pack)    |2953868554188|Alimentation|\"775 Willow St, San Francisco, CA 94016\" |1               |2.99      |1.495     |2.99    |1.495   |\n",
            "|2023-01-26T12:16:00.000|141240  |27in 4K Gaming Monitor    |5173670800988|Vêtements   |\"979 Park St, Los Angeles, CA 90001\"     |1               |389.99    |128.6967  |389.99  |261.2933|\n",
            "|2023-01-05T12:04:00.000|141241  |USB-C Charging Cable      |8051736777568|Vêtements   |\"181 6th St, San Francisco, CA 94016\"    |1               |11.95     |5.975     |11.95   |5.975   |\n",
            "|2023-01-01T10:30:00.000|141242  |Bose SoundSport Headphones|1508418177978|Électronique|\"867 Willow St, Los Angeles, CA 90001\"   |1               |99.99     |49.995    |99.99   |49.995  |\n",
            "|2023-01-22T21:20:00.000|141243  |Apple Airpods Headphones  |1386344211590|Électronique|\"657 Johnson St, San Francisco, CA 94016\"|1               |150       |97.5      |150     |52.5    |\n",
            "|2023-01-07T11:29:00.000|141244  |Apple Airpods Headphones  |4332898830865|Vêtements   |\"492 Walnut St, San Francisco, CA 94016\" |1               |150       |97.5      |150     |52.5    |\n",
            "|2023-01-31T10:12:00.000|141245  |Macbook Pro Laptop        |1169379570345|Vêtements   |\"322 6th St, San Francisco, CA 94016\"    |1               |1700      |561       |1700    |1139    |\n",
            "|2023-01-09T18:57:00.000|141246  |AAA Batteries (4-pack)    |4436184749366|Vêtements   |\"618 7th St, Los Angeles, CA 90001\"      |3               |2.99      |1.495     |8.97    |4.485   |\n",
            "|2023-01-25T19:19:00.000|141247  |27in FHD Monitor          |7313825995563|Vêtements   |\"512 Wilson St, San Francisco, CA 94016\" |1               |149.99    |97.4935   |149.99  |52.4965 |\n",
            "|2023-01-03T21:54:00.000|141248  |Flatscreen TV             |4062756463060|Électronique|\"363 Spruce St, Austin, TX 73301\"        |1               |300       |99        |300     |201     |\n",
            "|2023-01-05T17:20:00.000|141249  |27in FHD Monitor          |9643428300795|Alimentation|\"440 Cedar St, Portland, OR 97035\"       |1               |149.99    |97.4935   |149.99  |52.4965 |\n",
            "|2023-01-10T11:20:00.000|141250  |Vareebadd Phone           |6721780072847|Alimentation|\"471 Center St, Los Angeles, CA 90001\"   |1               |400       |132       |400     |268     |\n",
            "|2023-01-24T08:13:00.000|141251  |Apple Airpods Headphones  |2700099961823|Alimentation|\"414 Walnut St, Boston, MA 02215\"        |1               |150       |97.5      |150     |52.5    |\n",
            "|2023-01-30T09:28:00.000|141252  |USB-C Charging Cable      |3692435232121|Sports      |\"220 9th St, Los Angeles, CA 90001\"      |1               |11.95     |5.975     |11.95   |5.975   |\n",
            "|2023-01-08T11:51:00.000|141254  |AAA Batteries (4-pack)    |8219536039183|Électronique|\"238 Sunset St, Seattle, WA 98101\"       |1               |2.99      |1.495     |2.99    |1.495   |\n",
            "+-----------------------+--------+--------------------------+-------------+------------+-----------------------------------------+----------------+----------+----------+--------+--------+\n",
            "only showing top 20 rows\n",
            "\n"
          ]
        }
      ]
    },
    {
      "cell_type": "code",
      "source": [
        "df = df.withColumn(\n",
        "    \"time_of_day\",\n",
        "    when((hour(col(\"order_date\")) >= 5) & (hour(col(\"order_date\")) < 12), \"morning\")\n",
        "    .when((hour(col(\"order_date\")) >= 12) & (hour(col(\"order_date\")) < 18), \"afternoon\")\n",
        "    .when((hour(col(\"order_date\")) >= 18) & (hour(col(\"order_date\")) < 24), \"evening\")\n",
        ")\n",
        "\n",
        "# Reorder columns to place 'time_of_day' at index 1\n",
        "columns = df.columns\n",
        "desired_index = 1\n",
        "# Remove 'time_of_day' from columns list to avoid duplication\n",
        "columns.remove('time_of_day')\n",
        "# Insert 'time_of_day' at the desired index\n",
        "new_columns = columns[:desired_index] + ['time_of_day'] + columns[desired_index:]\n",
        "\n",
        "# Reorder the DataFrame columns\n",
        "orders_data = df.select(new_columns)\n",
        "\n",
        "# Show the updated DataFrame\n",
        "df.show(truncate=False)"
      ],
      "metadata": {
        "colab": {
          "base_uri": "https://localhost:8080/"
        },
        "id": "BEYEVDkthtip",
        "outputId": "e8abdd67-c425-434c-fd1b-6773e1c803ed"
      },
      "execution_count": 76,
      "outputs": [
        {
          "output_type": "stream",
          "name": "stdout",
          "text": [
            "+-----------------------+--------+--------------------------+-------------+------------+-----------------------------------------+----------------+----------+----------+--------+--------+-----------+\n",
            "|order_date             |order_id|product                   |product_id   |category    |purchase_address                         |quantity_ordered|price_each|cost_price|turnover|margin  |time_of_day|\n",
            "+-----------------------+--------+--------------------------+-------------+------------+-----------------------------------------+----------------+----------+----------+--------+--------+-----------+\n",
            "|2023-01-22T21:25:00.000|141234  |iPhone                    |5638008983335|Vêtements   |\"944 Walnut St, Boston, MA 02215\"        |1               |700       |231       |700     |469     |evening    |\n",
            "|2023-01-28T14:15:00.000|141235  |Lightning Charging Cable  |5563319511488|Alimentation|\"185 Maple St, Portland, OR 97035\"       |1               |14.95     |7.475     |14.95   |7.475   |afternoon  |\n",
            "|2023-01-17T13:33:00.000|141236  |Wired Headphones          |2113973395220|Vêtements   |\"538 Adams St, San Francisco, CA 94016\"  |2               |11.99     |5.995     |23.98   |11.99   |afternoon  |\n",
            "|2023-01-05T20:33:00.000|141237  |27in FHD Monitor          |3069156759167|Sports      |\"738 10th St, Los Angeles, CA 90001\"     |1               |149.99    |97.4935   |149.99  |52.4965 |evening    |\n",
            "|2023-01-25T11:59:00.000|141238  |Wired Headphones          |9692680938163|Électronique|\"387 10th St, Austin, TX 73301\"          |1               |11.99     |5.995     |11.99   |5.995   |morning    |\n",
            "|2023-01-29T20:22:00.000|141239  |AAA Batteries (4-pack)    |2953868554188|Alimentation|\"775 Willow St, San Francisco, CA 94016\" |1               |2.99      |1.495     |2.99    |1.495   |evening    |\n",
            "|2023-01-26T12:16:00.000|141240  |27in 4K Gaming Monitor    |5173670800988|Vêtements   |\"979 Park St, Los Angeles, CA 90001\"     |1               |389.99    |128.6967  |389.99  |261.2933|afternoon  |\n",
            "|2023-01-05T12:04:00.000|141241  |USB-C Charging Cable      |8051736777568|Vêtements   |\"181 6th St, San Francisco, CA 94016\"    |1               |11.95     |5.975     |11.95   |5.975   |afternoon  |\n",
            "|2023-01-01T10:30:00.000|141242  |Bose SoundSport Headphones|1508418177978|Électronique|\"867 Willow St, Los Angeles, CA 90001\"   |1               |99.99     |49.995    |99.99   |49.995  |morning    |\n",
            "|2023-01-22T21:20:00.000|141243  |Apple Airpods Headphones  |1386344211590|Électronique|\"657 Johnson St, San Francisco, CA 94016\"|1               |150       |97.5      |150     |52.5    |evening    |\n",
            "|2023-01-07T11:29:00.000|141244  |Apple Airpods Headphones  |4332898830865|Vêtements   |\"492 Walnut St, San Francisco, CA 94016\" |1               |150       |97.5      |150     |52.5    |morning    |\n",
            "|2023-01-31T10:12:00.000|141245  |Macbook Pro Laptop        |1169379570345|Vêtements   |\"322 6th St, San Francisco, CA 94016\"    |1               |1700      |561       |1700    |1139    |morning    |\n",
            "|2023-01-09T18:57:00.000|141246  |AAA Batteries (4-pack)    |4436184749366|Vêtements   |\"618 7th St, Los Angeles, CA 90001\"      |3               |2.99      |1.495     |8.97    |4.485   |evening    |\n",
            "|2023-01-25T19:19:00.000|141247  |27in FHD Monitor          |7313825995563|Vêtements   |\"512 Wilson St, San Francisco, CA 94016\" |1               |149.99    |97.4935   |149.99  |52.4965 |evening    |\n",
            "|2023-01-03T21:54:00.000|141248  |Flatscreen TV             |4062756463060|Électronique|\"363 Spruce St, Austin, TX 73301\"        |1               |300       |99        |300     |201     |evening    |\n",
            "|2023-01-05T17:20:00.000|141249  |27in FHD Monitor          |9643428300795|Alimentation|\"440 Cedar St, Portland, OR 97035\"       |1               |149.99    |97.4935   |149.99  |52.4965 |afternoon  |\n",
            "|2023-01-10T11:20:00.000|141250  |Vareebadd Phone           |6721780072847|Alimentation|\"471 Center St, Los Angeles, CA 90001\"   |1               |400       |132       |400     |268     |morning    |\n",
            "|2023-01-24T08:13:00.000|141251  |Apple Airpods Headphones  |2700099961823|Alimentation|\"414 Walnut St, Boston, MA 02215\"        |1               |150       |97.5      |150     |52.5    |morning    |\n",
            "|2023-01-30T09:28:00.000|141252  |USB-C Charging Cable      |3692435232121|Sports      |\"220 9th St, Los Angeles, CA 90001\"      |1               |11.95     |5.975     |11.95   |5.975   |morning    |\n",
            "|2023-01-08T11:51:00.000|141254  |AAA Batteries (4-pack)    |8219536039183|Électronique|\"238 Sunset St, Seattle, WA 98101\"       |1               |2.99      |1.495     |2.99    |1.495   |morning    |\n",
            "+-----------------------+--------+--------------------------+-------------+------------+-----------------------------------------+----------------+----------+----------+--------+--------+-----------+\n",
            "only showing top 20 rows\n",
            "\n"
          ]
        }
      ]
    },
    {
      "cell_type": "code",
      "source": [
        "df = df.filter(~lower(col(\"product\")).contains(\"tv\"))\n",
        "df.show(truncate=False)"
      ],
      "metadata": {
        "colab": {
          "base_uri": "https://localhost:8080/"
        },
        "id": "UhF2fHsRiWNe",
        "outputId": "52770059-f3a4-43fa-f9cb-027e143c1e1f"
      },
      "execution_count": 77,
      "outputs": [
        {
          "output_type": "stream",
          "name": "stdout",
          "text": [
            "+-----------------------+--------+--------------------------+-------------+------------+-----------------------------------------+----------------+----------+----------+--------+--------+-----------+\n",
            "|order_date             |order_id|product                   |product_id   |category    |purchase_address                         |quantity_ordered|price_each|cost_price|turnover|margin  |time_of_day|\n",
            "+-----------------------+--------+--------------------------+-------------+------------+-----------------------------------------+----------------+----------+----------+--------+--------+-----------+\n",
            "|2023-01-22T21:25:00.000|141234  |iPhone                    |5638008983335|Vêtements   |\"944 Walnut St, Boston, MA 02215\"        |1               |700       |231       |700     |469     |evening    |\n",
            "|2023-01-28T14:15:00.000|141235  |Lightning Charging Cable  |5563319511488|Alimentation|\"185 Maple St, Portland, OR 97035\"       |1               |14.95     |7.475     |14.95   |7.475   |afternoon  |\n",
            "|2023-01-17T13:33:00.000|141236  |Wired Headphones          |2113973395220|Vêtements   |\"538 Adams St, San Francisco, CA 94016\"  |2               |11.99     |5.995     |23.98   |11.99   |afternoon  |\n",
            "|2023-01-05T20:33:00.000|141237  |27in FHD Monitor          |3069156759167|Sports      |\"738 10th St, Los Angeles, CA 90001\"     |1               |149.99    |97.4935   |149.99  |52.4965 |evening    |\n",
            "|2023-01-25T11:59:00.000|141238  |Wired Headphones          |9692680938163|Électronique|\"387 10th St, Austin, TX 73301\"          |1               |11.99     |5.995     |11.99   |5.995   |morning    |\n",
            "|2023-01-29T20:22:00.000|141239  |AAA Batteries (4-pack)    |2953868554188|Alimentation|\"775 Willow St, San Francisco, CA 94016\" |1               |2.99      |1.495     |2.99    |1.495   |evening    |\n",
            "|2023-01-26T12:16:00.000|141240  |27in 4K Gaming Monitor    |5173670800988|Vêtements   |\"979 Park St, Los Angeles, CA 90001\"     |1               |389.99    |128.6967  |389.99  |261.2933|afternoon  |\n",
            "|2023-01-05T12:04:00.000|141241  |USB-C Charging Cable      |8051736777568|Vêtements   |\"181 6th St, San Francisco, CA 94016\"    |1               |11.95     |5.975     |11.95   |5.975   |afternoon  |\n",
            "|2023-01-01T10:30:00.000|141242  |Bose SoundSport Headphones|1508418177978|Électronique|\"867 Willow St, Los Angeles, CA 90001\"   |1               |99.99     |49.995    |99.99   |49.995  |morning    |\n",
            "|2023-01-22T21:20:00.000|141243  |Apple Airpods Headphones  |1386344211590|Électronique|\"657 Johnson St, San Francisco, CA 94016\"|1               |150       |97.5      |150     |52.5    |evening    |\n",
            "|2023-01-07T11:29:00.000|141244  |Apple Airpods Headphones  |4332898830865|Vêtements   |\"492 Walnut St, San Francisco, CA 94016\" |1               |150       |97.5      |150     |52.5    |morning    |\n",
            "|2023-01-31T10:12:00.000|141245  |Macbook Pro Laptop        |1169379570345|Vêtements   |\"322 6th St, San Francisco, CA 94016\"    |1               |1700      |561       |1700    |1139    |morning    |\n",
            "|2023-01-09T18:57:00.000|141246  |AAA Batteries (4-pack)    |4436184749366|Vêtements   |\"618 7th St, Los Angeles, CA 90001\"      |3               |2.99      |1.495     |8.97    |4.485   |evening    |\n",
            "|2023-01-25T19:19:00.000|141247  |27in FHD Monitor          |7313825995563|Vêtements   |\"512 Wilson St, San Francisco, CA 94016\" |1               |149.99    |97.4935   |149.99  |52.4965 |evening    |\n",
            "|2023-01-05T17:20:00.000|141249  |27in FHD Monitor          |9643428300795|Alimentation|\"440 Cedar St, Portland, OR 97035\"       |1               |149.99    |97.4935   |149.99  |52.4965 |afternoon  |\n",
            "|2023-01-10T11:20:00.000|141250  |Vareebadd Phone           |6721780072847|Alimentation|\"471 Center St, Los Angeles, CA 90001\"   |1               |400       |132       |400     |268     |morning    |\n",
            "|2023-01-24T08:13:00.000|141251  |Apple Airpods Headphones  |2700099961823|Alimentation|\"414 Walnut St, Boston, MA 02215\"        |1               |150       |97.5      |150     |52.5    |morning    |\n",
            "|2023-01-30T09:28:00.000|141252  |USB-C Charging Cable      |3692435232121|Sports      |\"220 9th St, Los Angeles, CA 90001\"      |1               |11.95     |5.975     |11.95   |5.975   |morning    |\n",
            "|2023-01-08T11:51:00.000|141254  |AAA Batteries (4-pack)    |8219536039183|Électronique|\"238 Sunset St, Seattle, WA 98101\"       |1               |2.99      |1.495     |2.99    |1.495   |morning    |\n",
            "|2023-01-09T20:55:00.000|141255  |USB-C Charging Cable      |7739134543383|Alimentation|\"764 11th St, Los Angeles, CA 90001\"     |1               |11.95     |5.975     |11.95   |5.975   |evening    |\n",
            "+-----------------------+--------+--------------------------+-------------+------------+-----------------------------------------+----------------+----------+----------+--------+--------+-----------+\n",
            "only showing top 20 rows\n",
            "\n"
          ]
        }
      ]
    },
    {
      "cell_type": "code",
      "source": [
        "df = df.withColumn(\"product\", lower(col(\"product\")))\n",
        "df = df.withColumn(\"category\", lower(col(\"category\")))\n",
        "df = df.withColumn(\"purchase_state\", split(col(\"purchase_address\"), \",\")[2])\n",
        "df = df.withColumn(\"purchase_state\", split(col(\"purchase_state\"), \" \")[1])\n",
        "df.show(truncate=False)"
      ],
      "metadata": {
        "colab": {
          "base_uri": "https://localhost:8080/"
        },
        "id": "UUnIqi4eipto",
        "outputId": "e91a943f-9ab0-42ef-8643-8876009f486e"
      },
      "execution_count": 78,
      "outputs": [
        {
          "output_type": "stream",
          "name": "stdout",
          "text": [
            "+-----------------------+--------+--------------------------+-------------+------------+-----------------------------------------+----------------+----------+----------+--------+--------+-----------+--------------+\n",
            "|order_date             |order_id|product                   |product_id   |category    |purchase_address                         |quantity_ordered|price_each|cost_price|turnover|margin  |time_of_day|purchase_state|\n",
            "+-----------------------+--------+--------------------------+-------------+------------+-----------------------------------------+----------------+----------+----------+--------+--------+-----------+--------------+\n",
            "|2023-01-22T21:25:00.000|141234  |iphone                    |5638008983335|vêtements   |\"944 Walnut St, Boston, MA 02215\"        |1               |700       |231       |700     |469     |evening    |MA            |\n",
            "|2023-01-28T14:15:00.000|141235  |lightning charging cable  |5563319511488|alimentation|\"185 Maple St, Portland, OR 97035\"       |1               |14.95     |7.475     |14.95   |7.475   |afternoon  |OR            |\n",
            "|2023-01-17T13:33:00.000|141236  |wired headphones          |2113973395220|vêtements   |\"538 Adams St, San Francisco, CA 94016\"  |2               |11.99     |5.995     |23.98   |11.99   |afternoon  |CA            |\n",
            "|2023-01-05T20:33:00.000|141237  |27in fhd monitor          |3069156759167|sports      |\"738 10th St, Los Angeles, CA 90001\"     |1               |149.99    |97.4935   |149.99  |52.4965 |evening    |CA            |\n",
            "|2023-01-25T11:59:00.000|141238  |wired headphones          |9692680938163|électronique|\"387 10th St, Austin, TX 73301\"          |1               |11.99     |5.995     |11.99   |5.995   |morning    |TX            |\n",
            "|2023-01-29T20:22:00.000|141239  |aaa batteries (4-pack)    |2953868554188|alimentation|\"775 Willow St, San Francisco, CA 94016\" |1               |2.99      |1.495     |2.99    |1.495   |evening    |CA            |\n",
            "|2023-01-26T12:16:00.000|141240  |27in 4k gaming monitor    |5173670800988|vêtements   |\"979 Park St, Los Angeles, CA 90001\"     |1               |389.99    |128.6967  |389.99  |261.2933|afternoon  |CA            |\n",
            "|2023-01-05T12:04:00.000|141241  |usb-c charging cable      |8051736777568|vêtements   |\"181 6th St, San Francisco, CA 94016\"    |1               |11.95     |5.975     |11.95   |5.975   |afternoon  |CA            |\n",
            "|2023-01-01T10:30:00.000|141242  |bose soundsport headphones|1508418177978|électronique|\"867 Willow St, Los Angeles, CA 90001\"   |1               |99.99     |49.995    |99.99   |49.995  |morning    |CA            |\n",
            "|2023-01-22T21:20:00.000|141243  |apple airpods headphones  |1386344211590|électronique|\"657 Johnson St, San Francisco, CA 94016\"|1               |150       |97.5      |150     |52.5    |evening    |CA            |\n",
            "|2023-01-07T11:29:00.000|141244  |apple airpods headphones  |4332898830865|vêtements   |\"492 Walnut St, San Francisco, CA 94016\" |1               |150       |97.5      |150     |52.5    |morning    |CA            |\n",
            "|2023-01-31T10:12:00.000|141245  |macbook pro laptop        |1169379570345|vêtements   |\"322 6th St, San Francisco, CA 94016\"    |1               |1700      |561       |1700    |1139    |morning    |CA            |\n",
            "|2023-01-09T18:57:00.000|141246  |aaa batteries (4-pack)    |4436184749366|vêtements   |\"618 7th St, Los Angeles, CA 90001\"      |3               |2.99      |1.495     |8.97    |4.485   |evening    |CA            |\n",
            "|2023-01-25T19:19:00.000|141247  |27in fhd monitor          |7313825995563|vêtements   |\"512 Wilson St, San Francisco, CA 94016\" |1               |149.99    |97.4935   |149.99  |52.4965 |evening    |CA            |\n",
            "|2023-01-05T17:20:00.000|141249  |27in fhd monitor          |9643428300795|alimentation|\"440 Cedar St, Portland, OR 97035\"       |1               |149.99    |97.4935   |149.99  |52.4965 |afternoon  |OR            |\n",
            "|2023-01-10T11:20:00.000|141250  |vareebadd phone           |6721780072847|alimentation|\"471 Center St, Los Angeles, CA 90001\"   |1               |400       |132       |400     |268     |morning    |CA            |\n",
            "|2023-01-24T08:13:00.000|141251  |apple airpods headphones  |2700099961823|alimentation|\"414 Walnut St, Boston, MA 02215\"        |1               |150       |97.5      |150     |52.5    |morning    |MA            |\n",
            "|2023-01-30T09:28:00.000|141252  |usb-c charging cable      |3692435232121|sports      |\"220 9th St, Los Angeles, CA 90001\"      |1               |11.95     |5.975     |11.95   |5.975   |morning    |CA            |\n",
            "|2023-01-08T11:51:00.000|141254  |aaa batteries (4-pack)    |8219536039183|électronique|\"238 Sunset St, Seattle, WA 98101\"       |1               |2.99      |1.495     |2.99    |1.495   |morning    |WA            |\n",
            "|2023-01-09T20:55:00.000|141255  |usb-c charging cable      |7739134543383|alimentation|\"764 11th St, Los Angeles, CA 90001\"     |1               |11.95     |5.975     |11.95   |5.975   |evening    |CA            |\n",
            "+-----------------------+--------+--------------------------+-------------+------------+-----------------------------------------+----------------+----------+----------+--------+--------+-----------+--------------+\n",
            "only showing top 20 rows\n",
            "\n"
          ]
        }
      ]
    },
    {
      "cell_type": "code",
      "source": [
        "output_path = \"path_to_save_cleaned_data/cleaned_data.csv\"\n",
        "df.write.csv(output_path, header=True)"
      ],
      "metadata": {
        "id": "c5MyEKiYjbUG"
      },
      "execution_count": 79,
      "outputs": []
    }
  ]
}